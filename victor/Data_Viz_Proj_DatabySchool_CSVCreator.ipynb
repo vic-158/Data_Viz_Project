{
 "cells": [
  {
   "cell_type": "code",
   "execution_count": 1,
   "metadata": {},
   "outputs": [],
   "source": [
    "#This JupyterNotebook will be used to generate the csv files that will be used for preliminary data analysis only."
   ]
  },
  {
   "cell_type": "code",
   "execution_count": 2,
   "metadata": {},
   "outputs": [],
   "source": [
    "#Import Dependencies\n",
    "import os\n",
    "import pandas as pd"
   ]
  },
  {
   "cell_type": "code",
   "execution_count": 3,
   "metadata": {},
   "outputs": [],
   "source": [
    "#Path to Excel Sheets\n",
    "path = \"./Resources/DataBySchool\"\n",
    "pathCSV = \"./Resources/DataBySchoolCSVs\""
   ]
  },
  {
   "cell_type": "code",
   "execution_count": 4,
   "metadata": {},
   "outputs": [],
   "source": [
    "#Define List of file names as fileList\n",
    "fileList = os.listdir(path)"
   ]
  },
  {
   "cell_type": "code",
   "execution_count": 5,
   "metadata": {},
   "outputs": [],
   "source": [
    "#Because each of the Excel files from FAFSA are formatted exactly the same, loop through each xlsx file.\n",
    "for file in fileList:\n",
    "    #Read in Excel File as a pandas dataframe\n",
    "    df = pd.read_excel(f'{path}/{file}')\n",
    "    \n",
    "    #Rename the column headers in the excel file to include information about the file name (Quarter and Year)\n",
    "    df.iloc[4,5] = f'{file[15:-4]}_{df.iloc[4,5]}'\n",
    "    df.iloc[4,6] = f'{file[15:-4]}_{df.iloc[4,6]}'\n",
    "    df.iloc[4,8] = f'YTD_{file[15:-4]}_{df.iloc[4,8]}'\n",
    "    df.iloc[4,9] = f'YTD_{file[15:-4]}_{df.iloc[4,9]}'\n",
    "    \n",
    "    #Set column names in pandas data frame to identified row\n",
    "    df.columns = df.iloc[4]\n",
    "    \n",
    "    #Drop top of the dataframe that contained extraneous information from the original xlsx files.\n",
    "    df = df.drop([0,1,2,3,4])\n",
    "    \n",
    "    #Write new CSV files to CSV folder for use\n",
    "    df.to_csv(f'{pathCSV}/{file[15:-4]}.csv',index = False)"
   ]
  }
 ],
 "metadata": {
  "kernelspec": {
   "display_name": "Python 3",
   "language": "python",
   "name": "python3"
  },
  "language_info": {
   "codemirror_mode": {
    "name": "ipython",
    "version": 3
   },
   "file_extension": ".py",
   "mimetype": "text/x-python",
   "name": "python",
   "nbconvert_exporter": "python",
   "pygments_lexer": "ipython3",
   "version": "3.7.0"
  }
 },
 "nbformat": 4,
 "nbformat_minor": 2
}
