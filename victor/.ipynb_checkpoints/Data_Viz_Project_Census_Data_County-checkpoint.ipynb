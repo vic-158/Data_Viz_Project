{
 "cells": [
  {
   "cell_type": "code",
   "execution_count": 35,
   "metadata": {},
   "outputs": [],
   "source": [
    "#Import Dependecies\n",
    "import numpy as np\n",
    "import pandas as pd\n",
    "import matplotlib.pyplot as plt\n",
    "import requests\n",
    "from census import Census\n",
    "import censusdata\n",
    "import csv\n",
    "\n",
    "#import csv file to narrow data search\n",
    "collegeR = \"./resources_Brendan/collegeRanksCSV.csv\"\n",
    "\n",
    "# Census API Key\n",
    "from goober import (api_key) \n",
    "\n",
    "years = [2009, 2010, 2011, 2012, 2013, 2014, 2015]"
   ]
  },
  {
   "cell_type": "code",
   "execution_count": 51,
   "metadata": {},
   "outputs": [],
   "source": [
    "#Create an Empty List for Census DFs\n",
    "census_data = []\n",
    "\n",
    "#Query Census Wrapper for given years for parameters\n",
    "for year in years:\n",
    "    c = Census(api_key, year=year)\n",
    "    data = c.acs5.get((\"NAME\", \"B19013_001E\", \"B01003_001E\", \"B01002_001E\", \"B19301_001E\", \"B17001_002E\", \"B17001_002E\")\n",
    "                       , {'for': 'County:*'})\n",
    "    df= pd.DataFrame(data)\n",
    "    df = df.rename(columns={\"B01003_001E\": \"Population\",\n",
    "                            \"B01002_001E\": \"Median Age\",\n",
    "                            \"B19013_001E\": \"Household Income\",\n",
    "                            \"B19301_001E\": \"Per Capita Income\",\n",
    "                            \"B17001_002E\": \"Poverty Count\",\n",
    "                            \"NAME\": \"Name\", \"zip code tabulation area\": \"Zipcode\"})\n",
    "    df[\"census_year\"]= year\n",
    "    census_data.append(df)"
   ]
  },
  {
   "cell_type": "code",
   "execution_count": 52,
   "metadata": {},
   "outputs": [],
   "source": [
    "#Write Census Data into CSVs in Resources\n",
    "for df in census_data:\n",
    "    df.to_csv(f\"./Resources/CensusByCounty/CountyCensus{df['census_year'][0]}.csv\")"
   ]
  },
  {
   "cell_type": "code",
   "execution_count": null,
   "metadata": {},
   "outputs": [],
   "source": []
  }
 ],
 "metadata": {
  "kernelspec": {
   "display_name": "Python 3",
   "language": "python",
   "name": "python3"
  },
  "language_info": {
   "codemirror_mode": {
    "name": "ipython",
    "version": 3
   },
   "file_extension": ".py",
   "mimetype": "text/x-python",
   "name": "python",
   "nbconvert_exporter": "python",
   "pygments_lexer": "ipython3",
   "version": "3.7.1"
  }
 },
 "nbformat": 4,
 "nbformat_minor": 2
}
