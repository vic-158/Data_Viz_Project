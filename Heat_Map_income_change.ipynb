{
 "cells": [
  {
   "cell_type": "code",
   "execution_count": 1,
   "metadata": {},
   "outputs": [],
   "source": [
    "import pandas as pd\n",
    "import gmaps\n",
    "import requests\n",
    "import json\n",
    "\n",
    "from api_keys import gkey\n",
    "gmaps.configure(api_key = gkey )"
   ]
  },
  {
   "cell_type": "code",
   "execution_count": 2,
   "metadata": {},
   "outputs": [],
   "source": [
    "top_10 = \"top_10_change.csv\"\n",
    "bottom_10 = \"bottom_10_change.csv\""
   ]
  },
  {
   "cell_type": "code",
   "execution_count": 3,
   "metadata": {},
   "outputs": [
    {
     "data": {
      "text/html": [
       "<div>\n",
       "<style scoped>\n",
       "    .dataframe tbody tr th:only-of-type {\n",
       "        vertical-align: middle;\n",
       "    }\n",
       "\n",
       "    .dataframe tbody tr th {\n",
       "        vertical-align: top;\n",
       "    }\n",
       "\n",
       "    .dataframe thead th {\n",
       "        text-align: right;\n",
       "    }\n",
       "</style>\n",
       "<table border=\"1\" class=\"dataframe\">\n",
       "  <thead>\n",
       "    <tr style=\"text-align: right;\">\n",
       "      <th></th>\n",
       "      <th>School</th>\n",
       "      <th>2009</th>\n",
       "      <th>2010</th>\n",
       "      <th>2011</th>\n",
       "      <th>2012</th>\n",
       "      <th>2013</th>\n",
       "      <th>2014</th>\n",
       "      <th>2015</th>\n",
       "      <th>AVG RANK</th>\n",
       "      <th>City</th>\n",
       "      <th>State</th>\n",
       "    </tr>\n",
       "  </thead>\n",
       "  <tbody>\n",
       "    <tr>\n",
       "      <th>0</th>\n",
       "      <td>Howard</td>\n",
       "      <td>102</td>\n",
       "      <td>96</td>\n",
       "      <td>104</td>\n",
       "      <td>111</td>\n",
       "      <td>120</td>\n",
       "      <td>142</td>\n",
       "      <td>145</td>\n",
       "      <td>117.142857</td>\n",
       "      <td>Washington</td>\n",
       "      <td>DC</td>\n",
       "    </tr>\n",
       "    <tr>\n",
       "      <th>1</th>\n",
       "      <td>Arizona</td>\n",
       "      <td>96</td>\n",
       "      <td>102</td>\n",
       "      <td>120</td>\n",
       "      <td>124</td>\n",
       "      <td>120</td>\n",
       "      <td>119</td>\n",
       "      <td>121</td>\n",
       "      <td>114.571429</td>\n",
       "      <td>Tucson</td>\n",
       "      <td>Arizona</td>\n",
       "    </tr>\n",
       "    <tr>\n",
       "      <th>2</th>\n",
       "      <td>Lowa St</td>\n",
       "      <td>89</td>\n",
       "      <td>88</td>\n",
       "      <td>94</td>\n",
       "      <td>94</td>\n",
       "      <td>101</td>\n",
       "      <td>101</td>\n",
       "      <td>106</td>\n",
       "      <td>96.142857</td>\n",
       "      <td>Ames</td>\n",
       "      <td>Iowa</td>\n",
       "    </tr>\n",
       "    <tr>\n",
       "      <th>3</th>\n",
       "      <td>Kansas</td>\n",
       "      <td>89</td>\n",
       "      <td>96</td>\n",
       "      <td>104</td>\n",
       "      <td>101</td>\n",
       "      <td>106</td>\n",
       "      <td>101</td>\n",
       "      <td>106</td>\n",
       "      <td>100.428571</td>\n",
       "      <td>Lawrence</td>\n",
       "      <td>Kansas</td>\n",
       "    </tr>\n",
       "    <tr>\n",
       "      <th>4</th>\n",
       "      <td>Pacific</td>\n",
       "      <td>102</td>\n",
       "      <td>115</td>\n",
       "      <td>99</td>\n",
       "      <td>101</td>\n",
       "      <td>106</td>\n",
       "      <td>112</td>\n",
       "      <td>116</td>\n",
       "      <td>107.285714</td>\n",
       "      <td>Forest Grove</td>\n",
       "      <td>Oregon</td>\n",
       "    </tr>\n",
       "  </tbody>\n",
       "</table>\n",
       "</div>"
      ],
      "text/plain": [
       "    School  2009  2010  2011  2012  2013  2014  2015    AVG RANK  \\\n",
       "0   Howard   102    96   104   111   120   142   145  117.142857   \n",
       "1  Arizona    96   102   120   124   120   119   121  114.571429   \n",
       "2  Lowa St    89    88    94    94   101   101   106   96.142857   \n",
       "3   Kansas    89    96   104   101   106   101   106  100.428571   \n",
       "4  Pacific   102   115    99   101   106   112   116  107.285714   \n",
       "\n",
       "           City    State  \n",
       "0    Washington       DC  \n",
       "1        Tucson  Arizona  \n",
       "2          Ames     Iowa  \n",
       "3      Lawrence   Kansas  \n",
       "4  Forest Grove   Oregon  "
      ]
     },
     "execution_count": 3,
     "metadata": {},
     "output_type": "execute_result"
    }
   ],
   "source": [
    "top10_change = pd.read_csv(top_10)\n",
    "bottom10_change = pd.read_csv(bottom_10)\n",
    "\n",
    "bottom10_change.head()"
   ]
  },
  {
   "cell_type": "code",
   "execution_count": 4,
   "metadata": {},
   "outputs": [],
   "source": [
    "cities = top10_change['City']\n",
    "Top_location = []\n",
    "\n",
    "for city in cities:\n",
    "    target_url = (f'https://maps.googleapis.com/maps/api/geocode/json?address={city}&key={gkey}')\n",
    "    \n",
    "    try:\n",
    "        city_data = requests.get(target_url).json()\n",
    "        \n",
    "        lat = city_data[\"results\"][0][\"geometry\"][\"location\"][\"lat\"]\n",
    "        lng = city_data[\"results\"][0][\"geometry\"][\"location\"][\"lng\"]\n",
    "        Top_location.append({\"City\":city,\n",
    "                          \"Lat\": lat,\n",
    "                          \"Lng\": lng\n",
    "                      })\n",
    "        \n",
    "    except:\n",
    "        pass\n"
   ]
  },
  {
   "cell_type": "code",
   "execution_count": 5,
   "metadata": {},
   "outputs": [
    {
     "data": {
      "text/html": [
       "<div>\n",
       "<style scoped>\n",
       "    .dataframe tbody tr th:only-of-type {\n",
       "        vertical-align: middle;\n",
       "    }\n",
       "\n",
       "    .dataframe tbody tr th {\n",
       "        vertical-align: top;\n",
       "    }\n",
       "\n",
       "    .dataframe thead th {\n",
       "        text-align: right;\n",
       "    }\n",
       "</style>\n",
       "<table border=\"1\" class=\"dataframe\">\n",
       "  <thead>\n",
       "    <tr style=\"text-align: right;\">\n",
       "      <th></th>\n",
       "      <th>City</th>\n",
       "      <th>Lat</th>\n",
       "      <th>Lng</th>\n",
       "    </tr>\n",
       "  </thead>\n",
       "  <tbody>\n",
       "    <tr>\n",
       "      <th>0</th>\n",
       "      <td>Boston</td>\n",
       "      <td>42.360082</td>\n",
       "      <td>-71.058880</td>\n",
       "    </tr>\n",
       "    <tr>\n",
       "      <th>1</th>\n",
       "      <td>Fort_Worth</td>\n",
       "      <td>32.755488</td>\n",
       "      <td>-97.330766</td>\n",
       "    </tr>\n",
       "    <tr>\n",
       "      <th>2</th>\n",
       "      <td>Amherst</td>\n",
       "      <td>42.373222</td>\n",
       "      <td>-72.519854</td>\n",
       "    </tr>\n",
       "    <tr>\n",
       "      <th>3</th>\n",
       "      <td>Provo</td>\n",
       "      <td>40.233844</td>\n",
       "      <td>-111.658534</td>\n",
       "    </tr>\n",
       "    <tr>\n",
       "      <th>4</th>\n",
       "      <td>Tallahassee</td>\n",
       "      <td>30.438256</td>\n",
       "      <td>-84.280733</td>\n",
       "    </tr>\n",
       "    <tr>\n",
       "      <th>5</th>\n",
       "      <td>Boston</td>\n",
       "      <td>42.360082</td>\n",
       "      <td>-71.058880</td>\n",
       "    </tr>\n",
       "    <tr>\n",
       "      <th>6</th>\n",
       "      <td>Buffalo</td>\n",
       "      <td>42.886447</td>\n",
       "      <td>-78.878369</td>\n",
       "    </tr>\n",
       "    <tr>\n",
       "      <th>7</th>\n",
       "      <td>Worcester</td>\n",
       "      <td>42.262593</td>\n",
       "      <td>-71.802293</td>\n",
       "    </tr>\n",
       "    <tr>\n",
       "      <th>8</th>\n",
       "      <td>Washington</td>\n",
       "      <td>47.751074</td>\n",
       "      <td>-120.740139</td>\n",
       "    </tr>\n",
       "    <tr>\n",
       "      <th>9</th>\n",
       "      <td>Philadelphia</td>\n",
       "      <td>39.952584</td>\n",
       "      <td>-75.165222</td>\n",
       "    </tr>\n",
       "  </tbody>\n",
       "</table>\n",
       "</div>"
      ],
      "text/plain": [
       "           City        Lat         Lng\n",
       "0        Boston  42.360082  -71.058880\n",
       "1    Fort_Worth  32.755488  -97.330766\n",
       "2       Amherst  42.373222  -72.519854\n",
       "3         Provo  40.233844 -111.658534\n",
       "4   Tallahassee  30.438256  -84.280733\n",
       "5        Boston  42.360082  -71.058880\n",
       "6       Buffalo  42.886447  -78.878369\n",
       "7     Worcester  42.262593  -71.802293\n",
       "8    Washington  47.751074 -120.740139\n",
       "9  Philadelphia  39.952584  -75.165222"
      ]
     },
     "execution_count": 5,
     "metadata": {},
     "output_type": "execute_result"
    }
   ],
   "source": [
    "Top_location = pd.DataFrame(Top_location)\n",
    "\n",
    "Top_location = Top_location[[\"City\",\"Lat\",\"Lng\"]]\n",
    "Top_location"
   ]
  },
  {
   "cell_type": "code",
   "execution_count": 6,
   "metadata": {},
   "outputs": [],
   "source": [
    "locations = Top_location[['Lat', 'Lng']]\n",
    "\n",
    "AVG = top10_change['AVG RANK']"
   ]
  },
  {
   "cell_type": "code",
   "execution_count": 7,
   "metadata": {},
   "outputs": [
    {
     "data": {
      "text/plain": [
       "gmaps.heatmap.WeightedHeatmap"
      ]
     },
     "execution_count": 7,
     "metadata": {},
     "output_type": "execute_result"
    }
   ],
   "source": [
    "fig = gmaps.figure()\n",
    "\n",
    "heat_layer = gmaps.heatmap_layer(locations, \n",
    "                                 weights = AVG, \n",
    "                                 dissipating = False, \n",
    "                                 max_intensity = 10, \n",
    "                                 point_radius = 1 )\n",
    "\n",
    "type(heat_layer)"
   ]
  },
  {
   "cell_type": "code",
   "execution_count": 8,
   "metadata": {},
   "outputs": [
    {
     "data": {
      "application/vnd.jupyter.widget-view+json": {
       "model_id": "0a0adfdfb9a341038b5393a6aa4aa999",
       "version_major": 2,
       "version_minor": 0
      },
      "text/plain": [
       "Figure(layout=FigureLayout(height='420px'))"
      ]
     },
     "metadata": {},
     "output_type": "display_data"
    }
   ],
   "source": [
    "fig.add_layer(heat_layer)\n",
    "fig"
   ]
  },
  {
   "cell_type": "code",
   "execution_count": 9,
   "metadata": {},
   "outputs": [],
   "source": [
    "cities = bottom10_change['City']\n",
    "Bottom_location = []\n",
    "\n",
    "for city in cities:\n",
    "    target_url = (f'https://maps.googleapis.com/maps/api/geocode/json?address={city}&key={gkey}')\n",
    "    \n",
    "    try:\n",
    "        city_data = requests.get(target_url).json()\n",
    "        \n",
    "        lat = city_data[\"results\"][0][\"geometry\"][\"location\"][\"lat\"]\n",
    "        lng = city_data[\"results\"][0][\"geometry\"][\"location\"][\"lng\"]\n",
    "        Bottom_location.append({\"City\":city,\n",
    "                          \"Lat\": lat,\n",
    "                          \"Lng\": lng\n",
    "                      })\n",
    "        \n",
    "    except:\n",
    "        pass"
   ]
  },
  {
   "cell_type": "code",
   "execution_count": 10,
   "metadata": {},
   "outputs": [
    {
     "data": {
      "text/html": [
       "<div>\n",
       "<style scoped>\n",
       "    .dataframe tbody tr th:only-of-type {\n",
       "        vertical-align: middle;\n",
       "    }\n",
       "\n",
       "    .dataframe tbody tr th {\n",
       "        vertical-align: top;\n",
       "    }\n",
       "\n",
       "    .dataframe thead th {\n",
       "        text-align: right;\n",
       "    }\n",
       "</style>\n",
       "<table border=\"1\" class=\"dataframe\">\n",
       "  <thead>\n",
       "    <tr style=\"text-align: right;\">\n",
       "      <th></th>\n",
       "      <th>City</th>\n",
       "      <th>Lat</th>\n",
       "      <th>Lng</th>\n",
       "    </tr>\n",
       "  </thead>\n",
       "  <tbody>\n",
       "    <tr>\n",
       "      <th>0</th>\n",
       "      <td>Washington</td>\n",
       "      <td>47.751074</td>\n",
       "      <td>-120.740139</td>\n",
       "    </tr>\n",
       "    <tr>\n",
       "      <th>1</th>\n",
       "      <td>Tucson</td>\n",
       "      <td>32.222607</td>\n",
       "      <td>-110.974711</td>\n",
       "    </tr>\n",
       "    <tr>\n",
       "      <th>2</th>\n",
       "      <td>Ames</td>\n",
       "      <td>42.030781</td>\n",
       "      <td>-93.631913</td>\n",
       "    </tr>\n",
       "    <tr>\n",
       "      <th>3</th>\n",
       "      <td>Lawrence</td>\n",
       "      <td>38.971669</td>\n",
       "      <td>-95.235250</td>\n",
       "    </tr>\n",
       "    <tr>\n",
       "      <th>4</th>\n",
       "      <td>Forest Grove</td>\n",
       "      <td>45.526351</td>\n",
       "      <td>-123.120860</td>\n",
       "    </tr>\n",
       "    <tr>\n",
       "      <th>5</th>\n",
       "      <td>Pullman</td>\n",
       "      <td>46.729777</td>\n",
       "      <td>-117.181738</td>\n",
       "    </tr>\n",
       "    <tr>\n",
       "      <th>6</th>\n",
       "      <td>Chicago</td>\n",
       "      <td>41.878114</td>\n",
       "      <td>-87.629798</td>\n",
       "    </tr>\n",
       "    <tr>\n",
       "      <th>7</th>\n",
       "      <td>St. Louis</td>\n",
       "      <td>38.627003</td>\n",
       "      <td>-90.199404</td>\n",
       "    </tr>\n",
       "    <tr>\n",
       "      <th>8</th>\n",
       "      <td>Riverside</td>\n",
       "      <td>33.980601</td>\n",
       "      <td>-117.375494</td>\n",
       "    </tr>\n",
       "    <tr>\n",
       "      <th>9</th>\n",
       "      <td>Athens</td>\n",
       "      <td>37.983810</td>\n",
       "      <td>23.727539</td>\n",
       "    </tr>\n",
       "  </tbody>\n",
       "</table>\n",
       "</div>"
      ],
      "text/plain": [
       "           City        Lat         Lng\n",
       "0    Washington  47.751074 -120.740139\n",
       "1        Tucson  32.222607 -110.974711\n",
       "2          Ames  42.030781  -93.631913\n",
       "3      Lawrence  38.971669  -95.235250\n",
       "4  Forest Grove  45.526351 -123.120860\n",
       "5       Pullman  46.729777 -117.181738\n",
       "6       Chicago  41.878114  -87.629798\n",
       "7     St. Louis  38.627003  -90.199404\n",
       "8     Riverside  33.980601 -117.375494\n",
       "9        Athens  37.983810   23.727539"
      ]
     },
     "execution_count": 10,
     "metadata": {},
     "output_type": "execute_result"
    }
   ],
   "source": [
    "Bottom_location = pd.DataFrame(Bottom_location)\n",
    "\n",
    "Bottom_location = Bottom_location[[\"City\",\"Lat\",\"Lng\"]]\n",
    "Bottom_location"
   ]
  },
  {
   "cell_type": "code",
   "execution_count": 11,
   "metadata": {},
   "outputs": [],
   "source": [
    "locations = Bottom_location[['Lat', 'Lng']]\n",
    "\n",
    "AVG = bottom10_change['AVG RANK']"
   ]
  },
  {
   "cell_type": "code",
   "execution_count": 12,
   "metadata": {},
   "outputs": [
    {
     "data": {
      "text/plain": [
       "gmaps.heatmap.WeightedHeatmap"
      ]
     },
     "execution_count": 12,
     "metadata": {},
     "output_type": "execute_result"
    }
   ],
   "source": [
    "fig = gmaps.figure()\n",
    "\n",
    "heat_layer = gmaps.heatmap_layer(locations, \n",
    "                                 weights = AVG, \n",
    "                                 dissipating = False, \n",
    "                                 max_intensity = 10, \n",
    "                                 point_radius = 1 )\n",
    "\n",
    "type(heat_layer)"
   ]
  },
  {
   "cell_type": "code",
   "execution_count": 13,
   "metadata": {},
   "outputs": [
    {
     "data": {
      "application/vnd.jupyter.widget-view+json": {
       "model_id": "0f4f42f1b5524e039033d8035ce18225",
       "version_major": 2,
       "version_minor": 0
      },
      "text/plain": [
       "Figure(layout=FigureLayout(height='420px'))"
      ]
     },
     "metadata": {},
     "output_type": "display_data"
    }
   ],
   "source": [
    "fig.add_layer(heat_layer)\n",
    "fig"
   ]
  },
  {
   "cell_type": "code",
   "execution_count": null,
   "metadata": {},
   "outputs": [],
   "source": []
  }
 ],
 "metadata": {
  "kernelspec": {
   "display_name": "Python 3",
   "language": "python",
   "name": "python3"
  },
  "language_info": {
   "codemirror_mode": {
    "name": "ipython",
    "version": 3
   },
   "file_extension": ".py",
   "mimetype": "text/x-python",
   "name": "python",
   "nbconvert_exporter": "python",
   "pygments_lexer": "ipython3",
   "version": "3.6.8"
  }
 },
 "nbformat": 4,
 "nbformat_minor": 2
}
